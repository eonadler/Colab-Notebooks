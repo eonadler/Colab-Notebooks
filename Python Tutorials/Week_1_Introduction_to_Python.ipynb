{
  "nbformat": 4,
  "nbformat_minor": 0,
  "metadata": {
    "colab": {
      "provenance": [],
      "authorship_tag": "ABX9TyP1i62oiUYA0GbldNBuBHvO",
      "include_colab_link": true
    },
    "kernelspec": {
      "name": "python3",
      "display_name": "Python 3"
    },
    "language_info": {
      "name": "python"
    }
  },
  "cells": [
    {
      "cell_type": "markdown",
      "metadata": {
        "id": "view-in-github",
        "colab_type": "text"
      },
      "source": [
        "<a href=\"https://colab.research.google.com/github/eonadler/Colab-Notebooks/blob/main/Week_1_Introduction_to_Python.ipynb\" target=\"_parent\"><img src=\"https://colab.research.google.com/assets/colab-badge.svg\" alt=\"Open In Colab\"/></a>"
      ]
    },
    {
      "cell_type": "markdown",
      "source": [
        "# Dark Matter & Data Visualization Week 1: Introduction to Python\n",
        "\n",
        "Welcome to the interactive portion of the course!  This week, we'll introduce the programming language Python.\n",
        "\n",
        "## Table of Contents:\n",
        "* [Notebooks, Variables, and Printing](#first-bullet)\n",
        "* [Arithmetic Operations](#second-bullet)\n",
        "* [Arrays](#third-bullet)\n",
        "* [Functions](#fourth-bullet)\n",
        "* [Exercise: Hubble's Law](#fifth-bullet)"
      ],
      "metadata": {
        "id": "aGB0ASjufyry"
      }
    },
    {
      "cell_type": "markdown",
      "source": [
        "## Notebooks, Variables, and Printing <a name=\"first-bullet\"></a>\n",
        "\n",
        "This page is an interactive environment, called a \"notebook,\" that lets you write and execute Python code. Notebooks consist of \"cells,\" which are blocks of one or more Python instructions. Let's see how to run code in notebooks and how to define and print variables in Python."
      ],
      "metadata": {
        "id": "PP3nMKSHg9qW"
      }
    },
    {
      "cell_type": "markdown",
      "source": [
        "Here's a cell that stores the result of a computation (the number of seconds in a day) in a variable and prints its value. Click on the \"play\" button to execute the cell. You should be able to see the result. You can also execute the cell using Ctrl+Enter (or Command+Enter if you're on a Mac)."
      ],
      "metadata": {
        "id": "7OVcn13Mjcwe"
      }
    },
    {
      "cell_type": "code",
      "source": [
        "seconds_in_a_day = 24 * 60 * 60\n",
        "seconds_in_a_day"
      ],
      "metadata": {
        "colab": {
          "base_uri": "https://localhost:8080/"
        },
        "id": "zMIM2FJHhbgA",
        "outputId": "14cd6934-e15d-4897-ad32-485d8d6d6598"
      },
      "execution_count": null,
      "outputs": [
        {
          "output_type": "execute_result",
          "data": {
            "text/plain": [
              "86400"
            ]
          },
          "metadata": {},
          "execution_count": 1
        }
      ]
    },
    {
      "cell_type": "markdown",
      "source": [
        "Variables that you defined in one cell can be used later in other cells. The order of execution is important. For example, if we do not run the cell storing *seconds_in_a_day* beforehand, the following cell will hit an error."
      ],
      "metadata": {
        "id": "AD41SwnqiSex"
      }
    },
    {
      "cell_type": "code",
      "source": [
        "#Lines beginning with # are \"comments\"; these notes aren't read as code\n",
        "seconds_in_a_week = 7 * seconds_in_a_day\n",
        "\n",
        "#Here's an example of how to print more than just the variable's value:\n",
        "print('There are {} seconds in a week.'.format(seconds_in_a_week))"
      ],
      "metadata": {
        "colab": {
          "base_uri": "https://localhost:8080/"
        },
        "id": "Omrbw0N9iWFG",
        "outputId": "8c279e4d-9609-44fc-90ec-0d10dd9566c3"
      },
      "execution_count": null,
      "outputs": [
        {
          "output_type": "stream",
          "name": "stdout",
          "text": [
            "There are 604800 seconds in a week.\n"
          ]
        }
      ]
    },
    {
      "cell_type": "markdown",
      "source": [
        "**Exercise.** Click on this cell then click on \"+ Code\" in the upper-left hand corner of the notebook. In the new cell, compute the number of seconds in a year by reusing the variables *seconds_in_a_week* and/or *seconds_in_a_day*, and print the result. Run the new cell to check your result."
      ],
      "metadata": {
        "id": "9bYdcmalqenc"
      }
    },
    {
      "cell_type": "code",
      "source": [
        "seconds_in_a_year = seconds_in_a_day*365\n",
        "print(seconds_in_a_year)"
      ],
      "metadata": {
        "colab": {
          "base_uri": "https://localhost:8080/"
        },
        "id": "aVakCuDe6hlK",
        "outputId": "35fd73bd-ab7c-47d6-c759-293c24e258de"
      },
      "execution_count": null,
      "outputs": [
        {
          "output_type": "stream",
          "name": "stdout",
          "text": [
            "31536000\n"
          ]
        }
      ]
    },
    {
      "cell_type": "markdown",
      "source": [
        "## Arithmetic Operations <a name=\"second-bullet\"></a>\n",
        "\n",
        "Python can perform arithmetic operations like + (addition), * (multiplication), / (division), ** (raise to a power), etc. For example:"
      ],
      "metadata": {
        "id": "zB2rpTs6riS8"
      }
    },
    {
      "cell_type": "code",
      "source": [
        "#Define x\n",
        "x = 5.\n",
        "print(x)\n",
        "\n",
        "#A few arithmetic operations:\n",
        "print(x+3.)\n",
        "print(2*x)\n",
        "print(x/2)\n",
        "print(x**2)"
      ],
      "metadata": {
        "colab": {
          "base_uri": "https://localhost:8080/"
        },
        "id": "gF_cNjqtq58y",
        "outputId": "ba7b23e0-c74d-4109-916d-3cad43fb192a"
      },
      "execution_count": null,
      "outputs": [
        {
          "output_type": "stream",
          "name": "stdout",
          "text": [
            "5.0\n",
            "8.0\n",
            "10.0\n",
            "2.5\n",
            "25.0\n"
          ]
        }
      ]
    },
    {
      "cell_type": "markdown",
      "source": [
        "Arithmetic can also be performed between variables:"
      ],
      "metadata": {
        "id": "01YDMjgPsxdC"
      }
    },
    {
      "cell_type": "code",
      "source": [
        "#Define y\n",
        "y = 3.\n",
        "\n",
        "#Arithmetic using x and y:\n",
        "print(x+y)\n",
        "print(x**y)"
      ],
      "metadata": {
        "colab": {
          "base_uri": "https://localhost:8080/"
        },
        "id": "OAq9GZXOtXWR",
        "outputId": "512cf8b5-cb44-4226-f318-3a838537a6e5"
      },
      "execution_count": null,
      "outputs": [
        {
          "output_type": "stream",
          "name": "stdout",
          "text": [
            "8.0\n",
            "125.0\n"
          ]
        }
      ]
    },
    {
      "cell_type": "markdown",
      "source": [
        "**Exercise.** Define a new variable, *z*, equal to any integer from 0 to 10. Print the results of an arithmetic operation between *x* and *z* that returns 9.0."
      ],
      "metadata": {
        "id": "uOx76sHnth14"
      }
    },
    {
      "cell_type": "code",
      "source": [
        "#Your code here!"
      ],
      "metadata": {
        "id": "x1qyIevpujjV",
        "colab": {
          "base_uri": "https://localhost:8080/"
        },
        "outputId": "8c5bd6d4-5aea-4b4c-e790-d809c476b367"
      },
      "execution_count": null,
      "outputs": [
        {
          "output_type": "stream",
          "name": "stdout",
          "text": [
            "9.0\n"
          ]
        }
      ]
    },
    {
      "cell_type": "markdown",
      "source": [
        "## Arrays <a name=\"third-bullet\"></a>\n",
        "\n",
        "It's often very useful to work with multiple numbers at once; in Python, a collection of numbers is referred to as an *array*. We'll use a tool called NumPy to store arrays and perform computations on them. For example, let's store the integers from 1 through 5 as a NumPy array:"
      ],
      "metadata": {
        "id": "u2hjt00pr2ST"
      }
    },
    {
      "cell_type": "code",
      "source": [
        "#Imports only need to be performed once per notebook\n",
        "import numpy as np\n",
        "\n",
        "integer_array = np.array([1,2,3,4,5])\n",
        "print(integer_array)"
      ],
      "metadata": {
        "colab": {
          "base_uri": "https://localhost:8080/"
        },
        "id": "ZOO-8R6Yr5U5",
        "outputId": "cecbbb21-e363-4c30-951a-a5bba4e7d6ad"
      },
      "execution_count": null,
      "outputs": [
        {
          "output_type": "stream",
          "name": "stdout",
          "text": [
            "[1 2 3 4 5]\n"
          ]
        }
      ]
    },
    {
      "cell_type": "markdown",
      "source": [
        "Each number in an array is referred to as an *element*. In Python, the zeroth (0th) element refers to the first entry, the first (1st) element refers to the second entry, and so on. For example:"
      ],
      "metadata": {
        "id": "dBWdmNBWv780"
      }
    },
    {
      "cell_type": "code",
      "source": [
        "print(integer_array[0])\n",
        "print(integer_array[1])"
      ],
      "metadata": {
        "colab": {
          "base_uri": "https://localhost:8080/"
        },
        "id": "pFH-L-wAwIh_",
        "outputId": "f9570884-aef3-4844-cb82-77c3fa299308"
      },
      "execution_count": null,
      "outputs": [
        {
          "output_type": "stream",
          "name": "stdout",
          "text": [
            "1\n",
            "2\n"
          ]
        }
      ]
    },
    {
      "cell_type": "markdown",
      "source": [
        "As for variables, arithmetic can be performed on and between arrays. For example:"
      ],
      "metadata": {
        "id": "u0S-jgSlwSwR"
      }
    },
    {
      "cell_type": "code",
      "source": [
        "even_integers = np.array([0,2,4,6,8])\n",
        "odd_integers = np.array([1,3,5,7,9])\n",
        "\n",
        "print(2*even_integers)\n",
        "print(even_integers+odd_integers)"
      ],
      "metadata": {
        "colab": {
          "base_uri": "https://localhost:8080/"
        },
        "id": "FIwN7exwwX_S",
        "outputId": "b5822991-4348-4981-bb06-cdc5e9288a87"
      },
      "execution_count": null,
      "outputs": [
        {
          "output_type": "stream",
          "name": "stdout",
          "text": [
            "[ 0  4  8 12 16]\n",
            "[ 1  5  9 13 17]\n"
          ]
        }
      ]
    },
    {
      "cell_type": "markdown",
      "source": [
        "**Exercise.** Create an array containing the square of each even integer from -2 through 2. Print this variable to check your result."
      ],
      "metadata": {
        "id": "WJkRVoMXwqwD"
      }
    },
    {
      "cell_type": "code",
      "source": [
        "#Your code here!"
      ],
      "metadata": {
        "id": "SI5fL50-wka0",
        "colab": {
          "base_uri": "https://localhost:8080/"
        },
        "outputId": "432eb3e7-892b-4145-e730-e4c9177cb4a4"
      },
      "execution_count": null,
      "outputs": [
        {
          "output_type": "stream",
          "name": "stdout",
          "text": [
            "[4 0 4]\n"
          ]
        }
      ]
    },
    {
      "cell_type": "markdown",
      "source": [
        "## Functions <a name=\"fourth-bullet\"></a>\n",
        "\n",
        "When writing Python code, it's often helpful to split conceptually different tasks apart into readable, reusable, and modular components. A *function* is a block of code that only executes when called; functions are very helpful tools for making code more modular and readable. For example, compare the following methods for generating an array and checking whether its greatest value exceeds a user-specified threshold:"
      ],
      "metadata": {
        "id": "Dr_K190hkljr"
      }
    },
    {
      "cell_type": "code",
      "source": [
        "#Method 1: No functions\n",
        "\n",
        "#Set threshold\n",
        "threshold = 0.98\n",
        "\n",
        "#Generate 500 random numbers between 0 and 1\n",
        "a = np.random.rand(500)\n",
        "\n",
        "#Find largest number in the array\n",
        "a_max = np.max(a)\n",
        "\n",
        "#Check whether condition is met\n",
        "if np.max(a) > threshold:\n",
        "  print('Success!')"
      ],
      "metadata": {
        "colab": {
          "base_uri": "https://localhost:8080/"
        },
        "id": "8bZzn53GnrKP",
        "outputId": "5997774a-061d-4650-81a4-154fadf431e5"
      },
      "execution_count": null,
      "outputs": [
        {
          "output_type": "stream",
          "name": "stdout",
          "text": [
            "Success!\n"
          ]
        }
      ]
    },
    {
      "cell_type": "code",
      "source": [
        "#Method 2: Functions\n",
        "\n",
        "def generate_rand_array(size):\n",
        "  return np.random.rand(size)\n",
        "\n",
        "def find_max(array):\n",
        "  return np.max(array)\n",
        "\n",
        "def check_threshold(max,threshold):\n",
        "  if max > threshold:\n",
        "    print('Success!')\n",
        "  return\n",
        "\n",
        "#Call functions in sequence:\n",
        "a = generate_rand_array(500)\n",
        "a_max = find_max(a)\n",
        "check_threshold(a_max,0.98)\n",
        "\n",
        "#We could also package multiple components into one function:\n",
        "def check_max_threshold(size,threshold):\n",
        "  a = np.random.rand(size)\n",
        "  a_max = np.max(a)\n",
        "  if a_max > threshold:\n",
        "    print('Success!')\n",
        "  return\n",
        "\n",
        "check_max_threshold(500,0.98)"
      ],
      "metadata": {
        "colab": {
          "base_uri": "https://localhost:8080/"
        },
        "id": "13YQyvjcoc2m",
        "outputId": "55e4c35e-1aec-4a19-b4a4-dceca157993d"
      },
      "execution_count": null,
      "outputs": [
        {
          "output_type": "stream",
          "name": "stdout",
          "text": [
            "Success!\n",
            "Success!\n"
          ]
        }
      ]
    },
    {
      "cell_type": "markdown",
      "source": [
        "## Exercise: Hubble's Law <a name=\"fifth-bullet\"></a>\n",
        "\n",
        "\n",
        "Each week, the interactive portion will end with an exercise that uses the programming/data visualization concepts it introduces and relates to the material presented in class."
      ],
      "metadata": {
        "id": "pSNviHqwx0sT"
      }
    },
    {
      "cell_type": "markdown",
      "source": [
        "**Exercise.** We learned about Hubble's law, which relates the speed galaxies are moving away from us to their distance. Mathematically, $v = H_0 D$, where $v$ is velocity in units of km/s, $D$ is distance in units of Mpc, and $H_0$ is a constant in units of km/s/Mpc.\n",
        "\n",
        "1. Arrays containing velocity and distance data for the galaxies Hubble studied in 1929 are loaded below. Approximately what value of $H_0$ does this data yield, if Hubble's law holds?\n",
        "\n",
        "2. We now know that $H_0$ is within a few percent of $70$ km/s/Mpc. What do you think could cause the differences between Hubble's measurements and today's known value?\n",
        "\n",
        "*Hint: Think about what the measurements represent; should you use all of them when finding $H_0$, and how should you combine the ones you use?*"
      ],
      "metadata": {
        "id": "CzdpLgwayOVI"
      }
    },
    {
      "cell_type": "code",
      "source": [
        "#Galaxy velocities measured in km/s\n",
        "galaxy_velocities = np.array([170.,290.,-130.,-70.,-185.,-220.,200.,290.,270.,200.,300.,-30.,650.,150.,500.,920.,450.,500.,500.,960.,500.,850.,800.,1090.])\n",
        "\n",
        "#Galaxy distances measured in Mpc\n",
        "galaxy_distances = np.array([0.03,0.03,0.22,0.26,0.28,0.28,0.44,0.5,0.5,0.63,0.79,0.87,0.91,0.87,0.91,1.,1.1,1.1,1.38,1.74,2.,2.,2.,2.])\n",
        "\n",
        "#Your code to estimate H_0 here!"
      ],
      "metadata": {
        "id": "jJtGMzb5x56m"
      },
      "execution_count": null,
      "outputs": []
    }
  ]
}
