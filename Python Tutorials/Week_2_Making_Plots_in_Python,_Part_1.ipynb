{
  "nbformat": 4,
  "nbformat_minor": 0,
  "metadata": {
    "colab": {
      "provenance": [],
      "authorship_tag": "ABX9TyMh1Tcyxh2H6x1PUyugwaXs",
      "include_colab_link": true
    },
    "kernelspec": {
      "name": "python3",
      "display_name": "Python 3"
    },
    "language_info": {
      "name": "python"
    }
  },
  "cells": [
    {
      "cell_type": "markdown",
      "metadata": {
        "id": "view-in-github",
        "colab_type": "text"
      },
      "source": [
        "<a href=\"https://colab.research.google.com/github/eonadler/Colab-Notebooks/blob/main/Week_2_Making_Plots_in_Python%2C_Part_1.ipynb\" target=\"_parent\"><img src=\"https://colab.research.google.com/assets/colab-badge.svg\" alt=\"Open In Colab\"/></a>"
      ]
    },
    {
      "cell_type": "markdown",
      "source": [
        "# Dark Matter & Data Visualization Week 2: Making Plots in Python, Part 1\n",
        "\n",
        "This is the first of two notebooks that explore how to plot data in Python. Making plots underlies data visualization, which we'll cover in detail later in the course."
      ],
      "metadata": {
        "id": "aGB0ASjufyry"
      }
    },
    {
      "cell_type": "markdown",
      "source": [
        "## Table of Contents:\n",
        "* [Introduction to Plotting](#first-bullet)\n",
        "* [Plotting Options](#second-bullet)\n",
        "* [Exercise: Galaxy Rotation Curves](#third-bullet)"
      ],
      "metadata": {
        "id": "PP3nMKSHg9qW"
      }
    },
    {
      "cell_type": "markdown",
      "source": [
        "## Introduction to Plotting <a name=\"first-bullet\"></a>\n",
        "\n",
        "We will use the package [Matplotlib](https://matplotlib.org/), which allows us to easily make different kinds of plots in Python. The plots we'll explore in these notebooks only represent a small fraction of what can be done with Matplotlib; for example, see [this gallery](https://matplotlib.org/gallery.html) for many other examples.\n",
        "\n",
        "The following cell loads NumPy (introduced last time) and Matplotlib, and includes a few commands that make plots appear more clearly in a notebook setting."
      ],
      "metadata": {
        "id": "7OVcn13Mjcwe"
      }
    },
    {
      "cell_type": "code",
      "source": [
        "import numpy as np\n",
        "import matplotlib.pyplot as plt\n",
        "\n",
        "%matplotlib inline\n",
        "%config InlineBackend.figure_format='retina'\n",
        "\n",
        "plt.style.use('dark_background')"
      ],
      "metadata": {
        "id": "zMIM2FJHhbgA"
      },
      "execution_count": null,
      "outputs": []
    },
    {
      "cell_type": "markdown",
      "source": [
        "Let's start by plotting two arrays against each other. First, we'll define the arrays:"
      ],
      "metadata": {
        "id": "AD41SwnqiSex"
      }
    },
    {
      "cell_type": "code",
      "source": [
        "#The following command generates 10 numbers linearly spaced between 0 and 20\n",
        "x = np.linspace(0,20,10)\n",
        "print('x = {}\\n'.format(x))\n",
        "\n",
        "#Now, let's define a line using y = mx + b:\n",
        "m = 1.5; b = 2;\n",
        "y = m*x + b\n",
        "print('y = {}'.format(y))"
      ],
      "metadata": {
        "id": "Omrbw0N9iWFG"
      },
      "execution_count": null,
      "outputs": []
    },
    {
      "cell_type": "markdown",
      "source": [
        "Next, we'll plot the two arrays against each other:"
      ],
      "metadata": {
        "id": "GvGbyXKWGJ2c"
      }
    },
    {
      "cell_type": "code",
      "source": [
        "#Defines the figures and its size\n",
        "plt.figure(figsize=(6,6))\n",
        "\n",
        "#Plot x against y\n",
        "plt.plot(x,y)\n",
        "\n",
        "#Label the axes\n",
        "plt.xlabel('x',fontsize=14)\n",
        "plt.ylabel('y',fontsize=14)\n",
        "\n",
        "#Show the plot (you might need to run this twice if there's a white border around the plot)\n",
        "plt.show()"
      ],
      "metadata": {
        "id": "7n48BOxQGQak"
      },
      "execution_count": null,
      "outputs": []
    },
    {
      "cell_type": "markdown",
      "source": [
        "**Exercise.** Define a new array, z, that is related quadratically to x (i.e. z = ax^2 + bx + c). Plot x vs. z using `plt.scatter` instead of `plt.plot`. Discuss the differences between the two plotting commands."
      ],
      "metadata": {
        "id": "9bYdcmalqenc"
      }
    },
    {
      "cell_type": "code",
      "source": [
        "#Your code here!"
      ],
      "metadata": {
        "id": "7pitgGfwHeea"
      },
      "execution_count": null,
      "outputs": []
    },
    {
      "cell_type": "markdown",
      "source": [
        "## Plotting Options <a name=\"second-bullet\"></a>\n",
        "\n",
        "There are many ways to customize how a plot looks; this section explores a few of them, and we'll introduce more options in future notebooks.\n",
        "\n",
        "First, here's how we add multiple lines to the same plot. This cell also demonstrates how to use built-in NumPy functions:"
      ],
      "metadata": {
        "id": "u2hjt00pr2ST"
      }
    },
    {
      "cell_type": "code",
      "source": [
        "plt.figure(figsize=(6,6))\n",
        "\n",
        "#Because we are within a single figure's environment, the following two lines will appear on the same plot\n",
        "x = np.linspace(0,20,1000)\n",
        "\n",
        "plt.plot(x, np.sin(x))\n",
        "plt.plot(x, np.sqrt(x))\n",
        "\n",
        "plt.xlabel('x',fontsize=14)\n",
        "plt.ylabel('y',fontsize=14)\n",
        "\n",
        "plt.show()"
      ],
      "metadata": {
        "id": "ZOO-8R6Yr5U5"
      },
      "execution_count": null,
      "outputs": []
    },
    {
      "cell_type": "markdown",
      "source": [
        "The next cell demonstrates a few ways to change how lines appear on a plot:"
      ],
      "metadata": {
        "id": "dBWdmNBWv780"
      }
    },
    {
      "cell_type": "code",
      "source": [
        "plt.figure(figsize=(6,6))\n",
        "\n",
        "#Customize color (c) and linewidth (lw)\n",
        "plt.plot(x, np.sin(x), c='magenta', lw=3)\n",
        "\n",
        "#Customize linestyle (ls) and transparency (alpha)\n",
        "plt.plot(x, np.sqrt(x), ls='--', alpha=0.5)\n",
        "\n",
        "plt.xlabel('x',fontsize=14)\n",
        "plt.ylabel('y',fontsize=14)\n",
        "\n",
        "plt.show()"
      ],
      "metadata": {
        "id": "pFH-L-wAwIh_"
      },
      "execution_count": null,
      "outputs": []
    },
    {
      "cell_type": "markdown",
      "source": [
        "Finally, the next cell demonstrates how to add a legend:"
      ],
      "metadata": {
        "id": "u0S-jgSlwSwR"
      }
    },
    {
      "cell_type": "code",
      "source": [
        "plt.figure(figsize=(6,6))\n",
        "\n",
        "plt.plot(x, np.sin(x), label='$y=\\sin(x)$')\n",
        "plt.plot(x, np.sqrt(x), label='$y=\\sqrt{x}$')\n",
        "\n",
        "plt.xlabel('x',fontsize=14)\n",
        "plt.ylabel('y',fontsize=14)\n",
        "\n",
        "#Add the legend\n",
        "plt.legend(loc=2,fontsize=14)\n",
        "\n",
        "plt.show()"
      ],
      "metadata": {
        "id": "FIwN7exwwX_S"
      },
      "execution_count": null,
      "outputs": []
    },
    {
      "cell_type": "markdown",
      "source": [
        "**Exercise.** Plot the variables below on the same figure, using colors, linestyles, linewidths, transparencies, and legends to distinguish them."
      ],
      "metadata": {
        "id": "WJkRVoMXwqwD"
      }
    },
    {
      "cell_type": "code",
      "source": [
        "x2 = np.linspace(0,1,50)\n",
        "y2 = x2**2\n",
        "z2 = x2**3\n",
        "\n",
        "#Your code here!"
      ],
      "metadata": {
        "id": "SI5fL50-wka0"
      },
      "execution_count": null,
      "outputs": []
    },
    {
      "cell_type": "markdown",
      "source": [
        "## Exercise: Galaxy Rotation Curves <a name=\"third-bullet\"></a>"
      ],
      "metadata": {
        "id": "pSNviHqwx0sT"
      }
    },
    {
      "cell_type": "markdown",
      "source": [
        "**Exercise.** We learned how Vera Rubin measured and interpreted galaxy rotation curves to infer the existence of dark matter. Mathematically, the amount of matter in a rotating system like a galaxy determines its rotational velocity according to $v=\\sqrt{GM/r}$, where $G$ is Newton's gravitational constant, $M$ is the mass enclosed within a radius $r$ from the center of the galaxy.\n",
        "\n",
        "1. Arrays containing radius, the observed rotational velocity, and the rotational velocity predicted by the *only* the visible matter are loaded below for the galaxy [Messier 33](https://en.wikipedia.org/wiki/Triangulum_Galaxy). Plot the observed and predicted rotational velocity as a function of radius on the same figure. Distinguish the lines using a legend and different colors, linestyles, and transparencies.\n",
        "\n",
        "2. Using $v=\\sqrt{GM/r}$, estimate how much visible matter and how much total matter Messier 33 contains, in units of solar mass. Relative to the amount of visible matter, how much more mass is needed to explain the rotation curve? How does this compare to the total amount of dark and normal matter in the universe?\n",
        "\n",
        "*Hint: The lines on your plot should roughly look like the \"observations from starlight\" and \"expected from the visible disk\" lines [here](https://en.wikipedia.org/wiki/Galaxy_rotation_curve#/media/File:Rotation_curve_of_spiral_galaxy_Messier_33_(Triangulum).png).*"
      ],
      "metadata": {
        "id": "CzdpLgwayOVI"
      }
    },
    {
      "cell_type": "code",
      "source": [
        "#Distance from center of galaxy, measured in kpc\n",
        "r = np.array([0.382857142857143,0.8285714285714287,1.1885714285714286,1.5828571428571436,2.0285714285714294,2.3885714285714297,2.782857142857144,3.194285714285715,\n",
        "              3.6057142857142868,4.017142857142858,4.411428571428572,5.611428571428573,6.82857142857143,8.045714285714286,9.280000000000001,10.48,11.714285714285715,\n",
        "              12.931428571428572,14.16571428571429,15.382857142857144])\n",
        "\n",
        "#Observed rotation speed, measured in km/s\n",
        "v_observed = np.array([29.055374592833886,48.99022801302932,63.94136807817591,76.84039087947885,84.16938110749187,88.56677524429969,92.96416938110751,95.89576547231272,\n",
        "                      100.00000000000001,101.75895765472313,104.10423452768731,106.742671009772,110.84690553745929,119.93485342019545,121.69381107491857,120.22801302931597,\n",
        "                      122.57328990228015,126.38436482084691,134.5928338762215,140.1628664495114])\n",
        "\n",
        "#Predicted rotation speed based on visible matter, measured in km/s\n",
        "v_predicted = np.array([16.156351791530966,34.62540716612378,46.93811074918568,54.26710097719871,58.95765472312705,60.71661237785017,61.30293159609121,60.423452768729646,\n",
        "                        59.543973941368094,58.0781758957655,56.02605863192184,50.45602605863195,44.00651465798049,38.72964169381109,34.62540716612378,31.400651465798063,\n",
        "                        28.46905537459284,26.123778501628692,24.65798045602608,23.19218241042347])\n",
        "\n",
        "#Your code to plot the measured and predicted rotational velocity here!"
      ],
      "metadata": {
        "id": "jJtGMzb5x56m"
      },
      "execution_count": null,
      "outputs": []
    },
    {
      "cell_type": "code",
      "source": [
        "#Convert radius from kpc to km, and define G in appropriate units\n",
        "km_per_kpc = 3.086*10**16\n",
        "r_in_km = r*km_per_kpc\n",
        "G = 1.327*10**11 #km^3/(solar mass*seconds^2)\n",
        "\n",
        "#Your code to estimate the amount of visible and total mass here!"
      ],
      "metadata": {
        "id": "05dQN_o6nvLL"
      },
      "execution_count": null,
      "outputs": []
    }
  ]
}
