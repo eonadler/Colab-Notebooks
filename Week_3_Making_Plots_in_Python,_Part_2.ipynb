{
  "nbformat": 4,
  "nbformat_minor": 0,
  "metadata": {
    "colab": {
      "provenance": [],
      "authorship_tag": "ABX9TyOqDlqPSoyDHO3RLNZwMRZW",
      "include_colab_link": true
    },
    "kernelspec": {
      "name": "python3",
      "display_name": "Python 3"
    },
    "language_info": {
      "name": "python"
    }
  },
  "cells": [
    {
      "cell_type": "markdown",
      "metadata": {
        "id": "view-in-github",
        "colab_type": "text"
      },
      "source": [
        "<a href=\"https://colab.research.google.com/github/eonadler/Colab-Notebooks/blob/main/Week_3_Making_Plots_in_Python%2C_Part_2.ipynb\" target=\"_parent\"><img src=\"https://colab.research.google.com/assets/colab-badge.svg\" alt=\"Open In Colab\"/></a>"
      ]
    },
    {
      "cell_type": "markdown",
      "source": [
        "# Dark Matter & Data Visualization Week 3: Making Plots in Python, Part 2\n",
        "\n",
        "This is the second of two notebooks that explore how to plot data in Python. Making plots underlies data visualization, which we'll cover in detail later in the course."
      ],
      "metadata": {
        "id": "aGB0ASjufyry"
      }
    },
    {
      "cell_type": "markdown",
      "source": [
        "## Table of Contents:\n",
        "* [Plot Types](#first-bullet)\n",
        "* [Displaying Images](#second-bullet)\n",
        "* [Exercise: Recreating the M33 Rotation Curve Plot](#third-bullet)"
      ],
      "metadata": {
        "id": "PP3nMKSHg9qW"
      }
    },
    {
      "cell_type": "markdown",
      "source": [
        "## Plot Types <a name=\"first-bullet\"></a>\n",
        "\n",
        "This section explores a few different types of plots that can be made using [Matplotlib](https://matplotlib.org/). As a reminder, there is a [gallery](https://matplotlib.org/gallery.html) of many other examples, and a [tutorial notebook](https://github.com/eonadler/Data-Visualization/blob/master/Matplotlib%20and%20Data%20Visualization%20Tutorial.ipynb) in case you want to explore further."
      ],
      "metadata": {
        "id": "7OVcn13Mjcwe"
      }
    },
    {
      "cell_type": "code",
      "source": [
        "import numpy as np\n",
        "import matplotlib.pyplot as plt\n",
        "\n",
        "%matplotlib inline\n",
        "%config InlineBackend.figure_format='retina'\n",
        "\n",
        "plt.style.use('dark_background')"
      ],
      "metadata": {
        "id": "zMIM2FJHhbgA"
      },
      "execution_count": null,
      "outputs": []
    },
    {
      "cell_type": "markdown",
      "source": [
        "### Scatter Plots\n",
        "\n",
        "Last week, we used `plt.plot` to display lines. Let's see how `plt.scatter` displays individual points:"
      ],
      "metadata": {
        "id": "AD41SwnqiSex"
      }
    },
    {
      "cell_type": "code",
      "source": [
        "#The following command generates 10 numbers linearly spaced between 0 and 20\n",
        "x = np.linspace(0,20,10)\n",
        "\n",
        "#Now, let's define a line using y = mx + b:\n",
        "m = 1.5; b = 2;\n",
        "y = m*x + b\n",
        "\n",
        "#Defines the figures and its size\n",
        "plt.figure(figsize=(6,6))\n",
        "\n",
        "#Plot x against y\n",
        "plt.scatter(x,y)\n",
        "\n",
        "#Label the axes\n",
        "plt.xlabel('x',fontsize=14)\n",
        "plt.ylabel('y',fontsize=14)\n",
        "\n",
        "#Show the plot (you might need to run this twice if there's a white border around the plot)\n",
        "plt.show()"
      ],
      "metadata": {
        "id": "Omrbw0N9iWFG"
      },
      "execution_count": null,
      "outputs": []
    },
    {
      "cell_type": "markdown",
      "source": [
        "### Log Plots\n",
        "\n",
        "The data we plot is often spaced by large intervals, or even *orders of magnitude* (0.1, 1, 10, 100, 1000, ...), rather than in linear increments (1, 2, 3, 4, 5, ...). In these cases, plotting data on logarithmic (or \"log\") axes is helpful. For example, notice the differences between the following plots:"
      ],
      "metadata": {
        "id": "GvGbyXKWGJ2c"
      }
    },
    {
      "cell_type": "code",
      "source": [
        "#Define logarithmically and linearly spaced data:\n",
        "x = np.logspace(-2,5,10)\n",
        "y = np.linspace(-2,5,10)\n",
        "\n",
        "print('x={}\\n'.format(x))\n",
        "print('y={}\\n'.format(y))\n",
        "\n",
        "fig = plt.figure(figsize=(10,4))\n",
        "\n",
        "#First subplot: linear axes\n",
        "ax1 = fig.add_subplot(121)\n",
        "\n",
        "ax1.plot(x, y)\n",
        "\n",
        "ax1.set_xlabel('x',fontsize=14)\n",
        "ax1.set_ylabel('y',fontsize=14)\n",
        "\n",
        "#Second subplot: semilogx makes the x-axis logarithmic\n",
        "ax2 = fig.add_subplot(122)\n",
        "\n",
        "ax2.semilogx(x, y)\n",
        "\n",
        "ax2.set_xlabel('x',fontsize=14)\n",
        "ax2.set_ylabel('y',fontsize=14)\n",
        "\n",
        "#Show the plot (tight layout optimizes the spacing)\n",
        "plt.tight_layout()\n",
        "plt.show()"
      ],
      "metadata": {
        "id": "7n48BOxQGQak"
      },
      "execution_count": null,
      "outputs": []
    },
    {
      "cell_type": "markdown",
      "source": [
        "### Histograms\n",
        "\n",
        "Instead of plotting one variable against another, it's often useful to show how a single variable is distributed using a [histogram](https://en.wikipedia.org/wiki/Histogram). The cell below plots histograms for a random (\"uniform\") distribution and a normal (\"bell curve,\" or \"Gaussian\") distribution centered on the same value."
      ],
      "metadata": {
        "id": "b3omiOsS2kAx"
      }
    },
    {
      "cell_type": "code",
      "source": [
        "#Generate uniform and normal distributions with 1 million samples each\n",
        "x_rand = np.random.rand(1000000)\n",
        "x_normal = np.random.normal(0.5,0.1,1000000)\n",
        "\n",
        "#Defines the figures and its size\n",
        "plt.figure(figsize=(6,6))\n",
        "\n",
        "#Plot histograms\n",
        "plt.hist(x_rand,bins=100,alpha=0.5,label='Uniform')\n",
        "plt.hist(x_normal,bins=100,alpha=0.5,label='Normal')\n",
        "\n",
        "#Label the axes\n",
        "plt.xlabel('x',fontsize=14)\n",
        "plt.ylabel('Frequency',fontsize=14)\n",
        "plt.legend(loc=1,fontsize=14)\n",
        "\n",
        "#Show the plot (you might need to run this twice if there's a white border around the plot)\n",
        "plt.show()"
      ],
      "metadata": {
        "id": "7pitgGfwHeea"
      },
      "execution_count": null,
      "outputs": []
    },
    {
      "cell_type": "markdown",
      "source": [
        "## Displaying Images <a name=\"second-bullet\"></a>\n",
        "\n",
        "It's also possible to display images in a Python figure, and to plot on top of them. For example, the cell below downloads an image of the cosmic web, places it in the working directory (which you can see by clicking on \"Files,\" on the left-hand sidebar), and plots it."
      ],
      "metadata": {
        "id": "u2hjt00pr2ST"
      }
    },
    {
      "cell_type": "code",
      "source": [
        "!wget https://github.com/eonadler/Data-Visualization/blob/9fb9ec51de9520765bc342457868dabb41483d2a/cosmic_web.png?raw=true -O cosmic_web.png\n",
        "\n",
        "fig, ax = plt.subplots(1,1,figsize=(8,6))\n",
        "\n",
        "img = plt.imread(\"cosmic_web.png\")\n",
        "ax.imshow(img, extent=[0, 300, 0, 300])\n",
        "\n",
        "circle2 = plt.Circle((135, 140), 60, edgecolor='white', facecolor='none', linewidth=3)\n",
        "ax.add_artist(circle2)\n",
        "\n",
        "ax.tick_params(labelbottom='off')\n",
        "ax.tick_params(labelleft='off')\n",
        "plt.axis('off')\n",
        "\n",
        "plt.show()"
      ],
      "metadata": {
        "id": "ZOO-8R6Yr5U5"
      },
      "execution_count": null,
      "outputs": []
    },
    {
      "cell_type": "markdown",
      "source": [
        "**Exercise.** Search for \"dark matter simulation\" on Google Images. Download your favorite image and place it in \"Files\" by using a `wget` command or by clicking \"Files\"--> \"Upload to session storage\" Display your image in a Python figure."
      ],
      "metadata": {
        "id": "WJkRVoMXwqwD"
      }
    },
    {
      "cell_type": "code",
      "source": [
        "#Your code here!"
      ],
      "metadata": {
        "id": "Ui8nEUnpMPOp"
      },
      "execution_count": null,
      "outputs": []
    },
    {
      "cell_type": "markdown",
      "source": [
        "## Exercise: Recreating the M33 Rotation Curve Plot <a name=\"third-bullet\"></a>"
      ],
      "metadata": {
        "id": "pSNviHqwx0sT"
      }
    },
    {
      "cell_type": "markdown",
      "source": [
        "**Exercise.** In last week's exercse, we plotted the observed and predicted rotational velocity as a function of radius for the galaxy [Messier 33](https://en.wikipedia.org/wiki/Triangulum_Galaxy) (M33). The goal of this exercise is to recreate the famous [M33 rotation curve plot](https://upload.wikimedia.org/wikipedia/commons/thumb/c/cd/Rotation_curve_of_spiral_galaxy_Messier_33_%28Triangulum%29.png/1280px-Rotation_curve_of_spiral_galaxy_Messier_33_%28Triangulum%29.png).\n",
        "\n",
        "An image of M33 is loaded and displayed below with a blank subplot. Fill in this subplot to recreate the M33 image as closely as possible. Discuss whether linear or logarithmic axes work better for this plot.\n",
        "\n",
        "*Hint: Some Matplotlib tools that might be useful are: [`plt.errorbar`](https://matplotlib.org/3.5.1/api/_as_gen/matplotlib.pyplot.errorbar.html)* and [`plt.text`](https://matplotlib.org/3.5.1/api/_as_gen/matplotlib.pyplot.text.html). To plot uncertainties on the velocity measurements, you can assume that `yerr=v_observed/10.` (i.e., 10% measurement errors)."
      ],
      "metadata": {
        "id": "CzdpLgwayOVI"
      }
    },
    {
      "cell_type": "code",
      "source": [
        "#Download M33 image\n",
        "!wget https://www2.ccs.tsukuba.ac.jp/Astro/assets/img/M33.jpg -O M33.jpg\n",
        "\n",
        "#Load M33 data\n",
        "#Distance from center of galaxy, measured in kpc\n",
        "r = np.array([0.382857142857143,0.8285714285714287,1.1885714285714286,1.5828571428571436,2.0285714285714294,2.3885714285714297,2.782857142857144,3.194285714285715,\n",
        "              3.6057142857142868,4.017142857142858,4.411428571428572,5.611428571428573,6.82857142857143,8.045714285714286,9.280000000000001,10.48,11.714285714285715,\n",
        "              12.931428571428572,14.16571428571429,15.382857142857144])\n",
        "\n",
        "#Observed rotation speed, measured in km/s\n",
        "v_observed = np.array([29.055374592833886,48.99022801302932,63.94136807817591,76.84039087947885,84.16938110749187,88.56677524429969,92.96416938110751,95.89576547231272,\n",
        "                      100.00000000000001,101.75895765472313,104.10423452768731,106.742671009772,110.84690553745929,119.93485342019545,121.69381107491857,120.22801302931597,\n",
        "                      122.57328990228015,126.38436482084691,134.5928338762215,140.1628664495114])\n",
        "\n",
        "#Predicted rotation speed based on visible matter, measured in km/s\n",
        "v_predicted = np.array([16.156351791530966,34.62540716612378,46.93811074918568,54.26710097719871,58.95765472312705,60.71661237785017,61.30293159609121,60.423452768729646,\n",
        "                        59.543973941368094,58.0781758957655,56.02605863192184,50.45602605863195,44.00651465798049,38.72964169381109,34.62540716612378,31.400651465798063,\n",
        "                        28.46905537459284,26.123778501628692,24.65798045602608,23.19218241042347])"
      ],
      "metadata": {
        "id": "anjay7snPtll"
      },
      "execution_count": null,
      "outputs": []
    },
    {
      "cell_type": "code",
      "source": [
        "fig, ax = plt.subplots(1,1,figsize=(16,10))\n",
        "\n",
        "img = plt.imread(\"M33.jpg\")\n",
        "ax.imshow(img, extent=[0, 300, 0, 300])\n",
        "\n",
        "ax.tick_params(labelbottom='off')\n",
        "ax.tick_params(labelleft='off')\n",
        "ax.set_axis_off\n",
        "\n",
        "#Define the plot-in-plot\n",
        "left, bottom, width, height = [0.5, 0.175, 0.235, 0.225]\n",
        "ax2 = fig.add_axes([left, bottom, width, height])\n",
        "ax2.spines['right'].set_visible(False)\n",
        "ax2.spines['top'].set_visible(False)\n",
        "ax2.xaxis.set_ticks_position('bottom')\n",
        "ax2.yaxis.set_ticks_position('left')\n",
        "\n",
        "ax2.set_xlabel(r'$r$', fontsize=12)\n",
        "ax2.set_ylabel(r'$v$', fontsize=12)\n",
        "\n",
        "#Your code here!\n",
        "#ax2.plot(...)\n",
        "#ax2.scatter(...)\n",
        "\n",
        "plt.show()"
      ],
      "metadata": {
        "id": "U1b_pZb7OgWe"
      },
      "execution_count": null,
      "outputs": []
    }
  ]
}